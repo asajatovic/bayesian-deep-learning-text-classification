{
 "cells": [
  {
   "cell_type": "code",
   "execution_count": 1,
   "metadata": {},
   "outputs": [],
   "source": [
    "import math\n",
    "import os\n",
    "import random\n",
    "import time\n",
    "\n",
    "import numpy as np\n",
    "import matplotlib\n",
    "import matplotlib.pyplot as plt\n",
    "import torch\n",
    "\n",
    "from models import TextLSTM, TextTCN\n",
    "from models_variational import TextLSTM as TextLSTMVariational\n",
    "from models_variational import TextTCN as TextTCNVariational\n",
    "from torchtext import data, datasets\n",
    "from torchtext.vocab import GloVe\n",
    "from variational import ELBO\n",
    "from yelp_reviews import YELP"
   ]
  },
  {
   "cell_type": "code",
   "execution_count": 2,
   "metadata": {},
   "outputs": [],
   "source": [
    "SEED = 1234\n",
    "torch.manual_seed(SEED)\n",
    "torch.cuda.manual_seed(SEED)\n",
    "random.seed(SEED)\n",
    "rand_state = random.getstate()\n",
    "\n",
    "torch.backends.cudnn.deterministic = True\n",
    "torch.backends.cudnn.benchmark = False\n",
    "\n",
    "device = torch.device('cuda' if torch.cuda.is_available() else 'cpu')\n",
    "batch_size = 128"
   ]
  },
  {
   "cell_type": "code",
   "execution_count": 3,
   "metadata": {},
   "outputs": [],
   "source": [
    "import matplotlib.pylab as pylab\n",
    "params = {'legend.fontsize': 'x-large',\n",
    "          'figure.figsize': (5, 2),\n",
    "         'axes.labelsize': 'x-large',\n",
    "         'axes.titlesize':'x-large',\n",
    "         'xtick.labelsize':'x-large',\n",
    "         'ytick.labelsize':'x-large'}\n",
    "pylab.rcParams.update(params)"
   ]
  },
  {
   "cell_type": "code",
   "execution_count": 4,
   "metadata": {
    "scrolled": false
   },
   "outputs": [],
   "source": [
    "def plot(coverages, risks_sr, risks_var, dims):\n",
    "    plt.figure(figsize=dims)\n",
    "    plt.plot(coverages, risks_sr, label='SR')\n",
    "    plt.plot(coverages, risks_var, label='BV')\n",
    "    plt.legend(loc='lower right')\n",
    "    plt.xlabel('coverage', fontsize=20)\n",
    "    plt.ylabel('risk', fontsize=20)\n",
    "    plt.show()"
   ]
  },
  {
   "cell_type": "markdown",
   "metadata": {},
   "source": [
    "## Dataset loading"
   ]
  },
  {
   "cell_type": "code",
   "execution_count": 5,
   "metadata": {},
   "outputs": [],
   "source": [
    "def load_imdb():\n",
    "    TEXT = data.Field(fix_length=400, lower=True,\n",
    "                      tokenize='spacy', batch_first=False)\n",
    "    LABEL = data.LabelField(dtype=torch.long)\n",
    "    train_data, test_data = datasets.IMDB.splits(\n",
    "        TEXT, LABEL, root='./data/imdb/')\n",
    "    train_data, valid_data = train_data.split(\n",
    "        split_ratio=0.8, stratified=False, random_state=rand_state)\n",
    "    TEXT.build_vocab(train_data, vectors=GloVe(\n",
    "    name='6B', dim=100, cache='./glove/'))\n",
    "    print(len(TEXT.vocab.itos))\n",
    "    print()\n",
    "    LABEL.build_vocab(train_data)\n",
    "    return train_data, valid_data, test_data\n",
    "\n",
    "def load_sst():\n",
    "    TEXT = data.Field(fix_length=30, lower=True,\n",
    "                      tokenize='spacy', batch_first=False)\n",
    "    LABEL = data.LabelField(dtype=torch.long)\n",
    "    train_data, valid_data, test_data = datasets.SST.splits(TEXT, LABEL,\n",
    "                                                            root='./data/sst/',\n",
    "                                                            fine_grained=False,\n",
    "                                                            filter_pred=lambda ex:\n",
    "                                                            ex.label != 'neutral')\n",
    "    TEXT.build_vocab(train_data, vectors=GloVe(\n",
    "    name='6B', dim=100, cache='./glove/'))\n",
    "    LABEL.build_vocab(train_data)\n",
    "    return train_data, valid_data, test_data\n",
    "\n",
    "def load_yelp():\n",
    "    TEXT = data.Field(fix_length=300, lower=True,\n",
    "                      tokenize='spacy', batch_first=False)\n",
    "    LABEL = data.LabelField(dtype=torch.long)\n",
    "    train_data, test_data = YELP.splits(\n",
    "        TEXT, LABEL, root='./data/yelp/')\n",
    "    train_data, valid_data = train_data.split(\n",
    "        split_ratio=0.9, stratified=False, random_state=rand_state)\n",
    "    TEXT.build_vocab(train_data, vectors=GloVe(\n",
    "    name='6B', dim=100, cache='./glove/'))\n",
    "    LABEL.build_vocab(train_data)\n",
    "    return train_data, valid_data, test_data"
   ]
  },
  {
   "cell_type": "markdown",
   "metadata": {},
   "source": [
    "## Predictions"
   ]
  },
  {
   "cell_type": "code",
   "execution_count": 6,
   "metadata": {},
   "outputs": [],
   "source": [
    "def predict(model, iterator):\n",
    "    def predict_on_batch(model, batch):\n",
    "        model.eval()\n",
    "        with torch.no_grad():\n",
    "            x, y = batch.text, batch.label\n",
    "            y_pred = model(x)\n",
    "        return y_pred, y\n",
    "    \n",
    "    preds = []\n",
    "    scores = []\n",
    "    targets = []\n",
    "    \n",
    "    for batch in iterator:\n",
    "        batch_scores, batch_targets = predict_on_batch(model, batch)\n",
    "        batch_preds = torch.argmax(batch_scores, dim=1)      \n",
    "        preds += [batch_preds.cpu().numpy()]\n",
    "        scores += [batch_scores.cpu().numpy()]\n",
    "        targets += [batch_targets.cpu().numpy()]\n",
    "    \n",
    "    preds = np.hstack(preds)\n",
    "    scores = np.vstack(scores)\n",
    "    targets = np.hstack(targets)\n",
    "    print(preds.shape)\n",
    "    print(scores.shape)\n",
    "    print(targets.shape)\n",
    "    \n",
    "    return preds, scores, targets"
   ]
  },
  {
   "cell_type": "code",
   "execution_count": 7,
   "metadata": {},
   "outputs": [],
   "source": [
    "def bbb_predict(model, iterator, T=10):\n",
    "    def bbb_predict_on_batch(model, batch, T):\n",
    "        model.eval()\n",
    "        preds = []\n",
    "        x, y = batch.text, batch.label\n",
    "        targets = y\n",
    "        for _ in range(T):\n",
    "            with torch.no_grad():\n",
    "                y_pred = model(x)\n",
    "                preds += [y_pred]\n",
    "        preds = torch.stack(preds)\n",
    "        pred_means = torch.mean(preds, dim=0)\n",
    "        pred_vars = torch.var(preds, 0, False, False)\n",
    "        pred_vars = torch.mean(pred_vars, dim=-1)\n",
    "        return pred_means, targets, pred_vars\n",
    "    \n",
    "    preds = []\n",
    "    scores = []\n",
    "    targets = []\n",
    "    variances = []\n",
    "    \n",
    "    for batch in iterator:\n",
    "        batch_scores, batch_targets, batch_vars = bbb_predict_on_batch(model, batch, T)\n",
    "        batch_preds = torch.argmax(batch_scores, dim=1)      \n",
    "        preds += [batch_preds.cpu().numpy()]\n",
    "        scores += [batch_scores.cpu().numpy()]\n",
    "        targets += [batch_targets.cpu().numpy()]\n",
    "        variances += [batch_vars.cpu().numpy()]\n",
    "    \n",
    "    preds = np.hstack(preds)\n",
    "    scores = np.vstack(scores)\n",
    "    targets = np.hstack(targets)\n",
    "    variances = np.hstack(variances)\n",
    "    print(preds.shape)\n",
    "    print(scores.shape)\n",
    "    print(targets.shape)\n",
    "    print(variances.shape)\n",
    "    \n",
    "    return preds, scores, targets, variances"
   ]
  },
  {
   "cell_type": "markdown",
   "metadata": {},
   "source": [
    "## Selective risk"
   ]
  },
  {
   "cell_type": "code",
   "execution_count": 8,
   "metadata": {},
   "outputs": [],
   "source": [
    "def selective_risk_at_coverage(coverage, kappas, preds, targets):\n",
    "    assert coverage >= 0 and coverage <= 1\n",
    "    if coverage == 0:\n",
    "        return 0\n",
    "    assert preds.shape[0] == targets.shape[0]\n",
    "    assert kappas.shape[0] == targets.shape[0]\n",
    "    kappas_sorted = np.sort(kappas)\n",
    "    if coverage == 1:\n",
    "        threshold = kappas_sorted[0]\n",
    "    else:\n",
    "        threshold = kappas_sorted[-int(coverage * preds.size)]\n",
    "    covered_idx = kappas > threshold\n",
    "    if not np.any(covered_idx):\n",
    "        return 0\n",
    "    selective_risk = 1 - np.mean(preds[covered_idx] == targets[covered_idx])\n",
    "    return selective_risk"
   ]
  },
  {
   "cell_type": "code",
   "execution_count": 9,
   "metadata": {},
   "outputs": [
    {
     "data": {
      "text/plain": [
       "array([0.  , 0.02, 0.04, 0.06, 0.08, 0.1 , 0.12, 0.14, 0.16, 0.18, 0.2 ,\n",
       "       0.22, 0.24, 0.26, 0.28, 0.3 , 0.32, 0.34, 0.36, 0.38, 0.4 , 0.42,\n",
       "       0.44, 0.46, 0.48, 0.5 , 0.52, 0.54, 0.56, 0.58, 0.6 , 0.62, 0.64,\n",
       "       0.66, 0.68, 0.7 , 0.72, 0.74, 0.76, 0.78, 0.8 , 0.82, 0.84, 0.86,\n",
       "       0.88, 0.9 , 0.92, 0.94, 0.96, 0.98, 1.  ])"
      ]
     },
     "execution_count": 9,
     "metadata": {},
     "output_type": "execute_result"
    }
   ],
   "source": [
    "coverages = np.linspace(0,1,51)\n",
    "coverages"
   ]
  },
  {
   "cell_type": "markdown",
   "metadata": {},
   "source": [
    "## SST-2"
   ]
  },
  {
   "cell_type": "code",
   "execution_count": 10,
   "metadata": {},
   "outputs": [],
   "source": [
    "_, valid_data, _ = load_sst()\n",
    "iterator = data.BucketIterator(valid_data, batch_size=batch_size, device=device)"
   ]
  },
  {
   "cell_type": "code",
   "execution_count": 11,
   "metadata": {
    "scrolled": true
   },
   "outputs": [
    {
     "data": {
      "text/plain": [
       "['best_lstm_5_val_acc=0.8038991.pth',\n",
       " 'best_lr_NO_drop_lstm_26_val_acc=0.8256881.pth',\n",
       " 'best_lr_NO_drop_tcn_23_val_acc=0.8188073.pth',\n",
       " 'best_lr_lstm_variational_laplace_27_val_acc=0.8084862.pth',\n",
       " 'best_tcn_variational_laplace_14_val_acc=0.809633.pth',\n",
       " 'best_lr_lstm_variational_normal_27_val_acc=0.8084862.pth',\n",
       " 'best_tcn_4_val_acc=0.8188073.pth',\n",
       " 'best_lr_tcn_variational_laplace_28_val_acc=0.7821101.pth',\n",
       " 'best_tcn_variational_normal_14_val_acc=0.809633.pth',\n",
       " 'best_NO_drop_tcn_4_val_acc=0.8199541.pth',\n",
       " 'best_lstm_variational_normal_4_val_acc=0.8107798.pth',\n",
       " 'best_lr_tcn_variational_normal_28_val_acc=0.7821101.pth',\n",
       " 'best_lr_tcn_21_val_acc=0.8245413.pth',\n",
       " 'best_NO_drop_lstm_5_val_acc=0.8084862.pth',\n",
       " 'best_lr_lstm_26_val_acc=0.8188073.pth',\n",
       " 'best_lstm_variational_laplace_4_val_acc=0.8107798.pth']"
      ]
     },
     "execution_count": 11,
     "metadata": {},
     "output_type": "execute_result"
    }
   ],
   "source": [
    "saved_folder = './models_final/sst/'\n",
    "os.listdir(saved_folder)"
   ]
  },
  {
   "cell_type": "code",
   "execution_count": 17,
   "metadata": {},
   "outputs": [
    {
     "data": {
      "text/plain": [
       "['best_lr_NO_drop_tcn_23_val_acc=0.8188073.pth',\n",
       " 'best_tcn_variational_laplace_14_val_acc=0.809633.pth',\n",
       " 'best_tcn_4_val_acc=0.8188073.pth',\n",
       " 'best_lr_tcn_variational_laplace_28_val_acc=0.7821101.pth',\n",
       " 'best_tcn_variational_normal_14_val_acc=0.809633.pth',\n",
       " 'best_NO_drop_tcn_4_val_acc=0.8199541.pth',\n",
       " 'best_lr_tcn_variational_normal_28_val_acc=0.7821101.pth',\n",
       " 'best_lr_tcn_21_val_acc=0.8245413.pth']"
      ]
     },
     "execution_count": 17,
     "metadata": {},
     "output_type": "execute_result"
    }
   ],
   "source": [
    "name = 'tcn'\n",
    "[l for l in os.listdir(saved_folder) if name in l]"
   ]
  },
  {
   "cell_type": "code",
   "execution_count": 18,
   "metadata": {},
   "outputs": [
    {
     "data": {
      "text/plain": [
       "TextTCN(\n",
       "  (embedding): Embedding(13962, 100, padding_idx=1)\n",
       "  (tcn): TemporalConvNet(\n",
       "    (network): Sequential(\n",
       "      (0): TemporalBlock(\n",
       "        (conv1): Conv1dPathwise(100, 100, kernel_size=(3,), stride=(1,), padding=(2,))\n",
       "        (chomp1): Chomp1d()\n",
       "        (relu1): ReLU()\n",
       "        (conv2): Conv1dPathwise(100, 100, kernel_size=(3,), stride=(1,), padding=(2,))\n",
       "        (chomp2): Chomp1d()\n",
       "        (relu2): ReLU()\n",
       "        (net): Sequential(\n",
       "          (0): Conv1dPathwise(100, 100, kernel_size=(3,), stride=(1,), padding=(2,))\n",
       "          (1): Chomp1d()\n",
       "          (2): ReLU()\n",
       "          (3): Conv1dPathwise(100, 100, kernel_size=(3,), stride=(1,), padding=(2,))\n",
       "          (4): Chomp1d()\n",
       "          (5): ReLU()\n",
       "        )\n",
       "        (relu): ReLU()\n",
       "      )\n",
       "      (1): TemporalBlock(\n",
       "        (conv1): Conv1dPathwise(100, 100, kernel_size=(3,), stride=(1,), padding=(4,), dilation=(2,))\n",
       "        (chomp1): Chomp1d()\n",
       "        (relu1): ReLU()\n",
       "        (conv2): Conv1dPathwise(100, 100, kernel_size=(3,), stride=(1,), padding=(4,), dilation=(2,))\n",
       "        (chomp2): Chomp1d()\n",
       "        (relu2): ReLU()\n",
       "        (net): Sequential(\n",
       "          (0): Conv1dPathwise(100, 100, kernel_size=(3,), stride=(1,), padding=(4,), dilation=(2,))\n",
       "          (1): Chomp1d()\n",
       "          (2): ReLU()\n",
       "          (3): Conv1dPathwise(100, 100, kernel_size=(3,), stride=(1,), padding=(4,), dilation=(2,))\n",
       "          (4): Chomp1d()\n",
       "          (5): ReLU()\n",
       "        )\n",
       "        (relu): ReLU()\n",
       "      )\n",
       "    )\n",
       "  )\n",
       "  (fc): LinearPathwise(in_features=100, out_features=2, bias=True)\n",
       "  (activation): LogSoftmax()\n",
       ")"
      ]
     },
     "execution_count": 18,
     "metadata": {},
     "output_type": "execute_result"
    }
   ],
   "source": [
    "model = torch.load(saved_folder + 'best_tcn_variational_normal_14_val_acc=0.809633.pth')\n",
    "model.to(device)"
   ]
  },
  {
   "cell_type": "code",
   "execution_count": 22,
   "metadata": {},
   "outputs": [
    {
     "name": "stdout",
     "output_type": "stream",
     "text": [
      "(872,)\n",
      "(872, 2)\n",
      "(872,)\n",
      "(872,)\n"
     ]
    }
   ],
   "source": [
    "preds, scores, targets, variances = bbb_predict(model, iterator, T=10)\n",
    "kappas_sr = np.max(scores, 1)\n",
    "kappas_var = -variances"
   ]
  },
  {
   "cell_type": "code",
   "execution_count": 23,
   "metadata": {
    "scrolled": true
   },
   "outputs": [],
   "source": [
    "risks_sr = [selective_risk_at_coverage(c, kappas_sr, preds, targets) for c in coverages]\n",
    "risks_var = [selective_risk_at_coverage(c, kappas_var, preds, targets) for c in coverages]"
   ]
  },
  {
   "cell_type": "code",
   "execution_count": 21,
   "metadata": {
    "scrolled": false
   },
   "outputs": [
    {
     "data": {
      "image/png": "[encoded data removed]",
      "text/plain": [
       "<Figure size 720x432 with 1 Axes>"
      ]
     },
     "metadata": {
      "needs_background": "light"
     },
     "output_type": "display_data"
    }
   ],
   "source": [
    "plot(coverages, risks_sr, risks_var, (10,6))"
   ]
  },
  {
   "cell_type": "code",
   "execution_count": 24,
   "metadata": {
    "scrolled": false
   },
   "outputs": [
    {
     "data": {
      "image/png": "[encoded data removed]",
      "text/plain": [
       "<Figure size 720x432 with 1 Axes>"
      ]
     },
     "metadata": {
      "needs_background": "light"
     },
     "output_type": "display_data"
    }
   ],
   "source": [
    "plot(coverages, risks_sr, risks_var, (10,6))"
   ]
  },
  {
   "cell_type": "markdown",
   "metadata": {},
   "source": [
    "## IMDb"
   ]
  },
  {
   "cell_type": "code",
   "execution_count": 25,
   "metadata": {},
   "outputs": [
    {
     "name": "stdout",
     "output_type": "stream",
     "text": [
      "91572\n",
      "\n"
     ]
    }
   ],
   "source": [
    "_, valid_data, _ = load_imdb()\n",
    "iterator = data.BucketIterator(valid_data, batch_size=batch_size, device=device)"
   ]
  },
  {
   "cell_type": "code",
   "execution_count": 26,
   "metadata": {},
   "outputs": [
    {
     "data": {
      "text/plain": [
       "['best_lr_lstm_4_val_acc=0.5366.pth',\n",
       " 'best_lr_tcn_variational_normal_26_val_acc=0.882.pth',\n",
       " 'best_lr_NO_drop_tcn_28_val_acc=0.8838.pth',\n",
       " 'best_lr_tcn_28_val_acc=0.8926.pth',\n",
       " 'best_NO_drop_tcn_3_val_acc=0.8974.pth',\n",
       " 'best_lstm_variational_normal_15_val_acc=0.8278.pth',\n",
       " 'best_tcn_3_val_acc=0.8962.pth',\n",
       " 'best_lstm_variational_laplace_15_val_acc=0.8278.pth',\n",
       " 'best_tcn_variational_laplace_4_val_acc=0.8904.pth',\n",
       " 'best_lstm_19_val_acc=0.861.pth',\n",
       " 'best_lr_tcn_variational_laplace_26_val_acc=0.882.pth',\n",
       " 'best_lr_NO_drop_lstm_21_val_acc=0.6754.pth',\n",
       " 'best_tcn_variational_normal_4_val_acc=0.8904.pth',\n",
       " 'best_lr_lstm_variational_normal_30_val_acc=0.7436.pth',\n",
       " 'best_lr_lstm_variational_laplace_30_val_acc=0.7436.pth',\n",
       " 'best_NO_drop_lstm_14_val_acc=0.8596.pth']"
      ]
     },
     "execution_count": 26,
     "metadata": {},
     "output_type": "execute_result"
    }
   ],
   "source": [
    "saved_folder = './models_final/imdb/'\n",
    "os.listdir(saved_folder)"
   ]
  },
  {
   "cell_type": "code",
   "execution_count": 35,
   "metadata": {},
   "outputs": [
    {
     "data": {
      "text/plain": [
       "['best_lr_tcn_variational_normal_26_val_acc=0.882.pth',\n",
       " 'best_tcn_variational_laplace_4_val_acc=0.8904.pth',\n",
       " 'best_lr_tcn_variational_laplace_26_val_acc=0.882.pth',\n",
       " 'best_tcn_variational_normal_4_val_acc=0.8904.pth']"
      ]
     },
     "execution_count": 35,
     "metadata": {},
     "output_type": "execute_result"
    }
   ],
   "source": [
    "name = 'tcn_variational'\n",
    "[l for l in os.listdir(saved_folder) if name in l]"
   ]
  },
  {
   "cell_type": "code",
   "execution_count": 37,
   "metadata": {},
   "outputs": [
    {
     "data": {
      "text/plain": [
       "TextTCN(\n",
       "  (embedding): Embedding(91572, 100, padding_idx=1)\n",
       "  (tcn): TemporalConvNet(\n",
       "    (network): Sequential(\n",
       "      (0): TemporalBlock(\n",
       "        (conv1): Conv1dPathwise(100, 100, kernel_size=(3,), stride=(1,), padding=(2,))\n",
       "        (chomp1): Chomp1d()\n",
       "        (relu1): ReLU()\n",
       "        (conv2): Conv1dPathwise(100, 100, kernel_size=(3,), stride=(1,), padding=(2,))\n",
       "        (chomp2): Chomp1d()\n",
       "        (relu2): ReLU()\n",
       "        (net): Sequential(\n",
       "          (0): Conv1dPathwise(100, 100, kernel_size=(3,), stride=(1,), padding=(2,))\n",
       "          (1): Chomp1d()\n",
       "          (2): ReLU()\n",
       "          (3): Conv1dPathwise(100, 100, kernel_size=(3,), stride=(1,), padding=(2,))\n",
       "          (4): Chomp1d()\n",
       "          (5): ReLU()\n",
       "        )\n",
       "        (relu): ReLU()\n",
       "      )\n",
       "      (1): TemporalBlock(\n",
       "        (conv1): Conv1dPathwise(100, 100, kernel_size=(3,), stride=(1,), padding=(4,), dilation=(2,))\n",
       "        (chomp1): Chomp1d()\n",
       "        (relu1): ReLU()\n",
       "        (conv2): Conv1dPathwise(100, 100, kernel_size=(3,), stride=(1,), padding=(4,), dilation=(2,))\n",
       "        (chomp2): Chomp1d()\n",
       "        (relu2): ReLU()\n",
       "        (net): Sequential(\n",
       "          (0): Conv1dPathwise(100, 100, kernel_size=(3,), stride=(1,), padding=(4,), dilation=(2,))\n",
       "          (1): Chomp1d()\n",
       "          (2): ReLU()\n",
       "          (3): Conv1dPathwise(100, 100, kernel_size=(3,), stride=(1,), padding=(4,), dilation=(2,))\n",
       "          (4): Chomp1d()\n",
       "          (5): ReLU()\n",
       "        )\n",
       "        (relu): ReLU()\n",
       "      )\n",
       "    )\n",
       "  )\n",
       "  (fc): LinearPathwise(in_features=100, out_features=2, bias=True)\n",
       "  (activation): LogSoftmax()\n",
       ")"
      ]
     },
     "execution_count": 37,
     "metadata": {},
     "output_type": "execute_result"
    }
   ],
   "source": [
    "model = torch.load(saved_folder + 'best_tcn_variational_normal_4_val_acc=0.8904.pth')\n",
    "model.to(device)"
   ]
  },
  {
   "cell_type": "code",
   "execution_count": 47,
   "metadata": {},
   "outputs": [
    {
     "name": "stdout",
     "output_type": "stream",
     "text": [
      "(5000,)\n",
      "(5000, 2)\n",
      "(5000,)\n",
      "(5000,)\n"
     ]
    }
   ],
   "source": [
    "preds, scores, targets, variances = bbb_predict(model, iterator, T=100)\n",
    "kappas_sr = np.max(scores, 1)\n",
    "kappas_var = -variances"
   ]
  },
  {
   "cell_type": "code",
   "execution_count": 48,
   "metadata": {
    "scrolled": true
   },
   "outputs": [],
   "source": [
    "risks_sr = [selective_risk_at_coverage(c, kappas_sr, preds, targets) for c in coverages]\n",
    "risks_var = [selective_risk_at_coverage(c, kappas_var, preds, targets) for c in coverages]"
   ]
  },
  {
   "cell_type": "code",
   "execution_count": 49,
   "metadata": {},
   "outputs": [
    {
     "data": {
      "image/png": "[encoded data removed]",
      "text/plain": [
       "<Figure size 720x432 with 1 Axes>"
      ]
     },
     "metadata": {
      "needs_background": "light"
     },
     "output_type": "display_data"
    }
   ],
   "source": [
    "plot(coverages, risks_sr, risks_var, (10,6))"
   ]
  },
  {
   "cell_type": "code",
   "execution_count": 46,
   "metadata": {},
   "outputs": [
    {
     "data": {
      "image/png": "[encoded data removed]",
      "text/plain": [
       "<Figure size 720x432 with 1 Axes>"
      ]
     },
     "metadata": {
      "needs_background": "light"
     },
     "output_type": "display_data"
    }
   ],
   "source": [
    "plot(coverages, risks_sr, risks_var, (10,6))"
   ]
  },
  {
   "cell_type": "markdown",
   "metadata": {},
   "source": [
    "## Yelp-f"
   ]
  },
  {
   "cell_type": "code",
   "execution_count": 15,
   "metadata": {},
   "outputs": [],
   "source": [
    "_, valid_data, _ = load_yelp()\n",
    "iterator = data.BucketIterator(valid_data, batch_size=batch_size, device=device)"
   ]
  },
  {
   "cell_type": "code",
   "execution_count": 16,
   "metadata": {
    "scrolled": false
   },
   "outputs": [
    {
     "data": {
      "text/plain": [
       "['best_tcn_variational_normal_1_val_acc=0.6227769.pth',\n",
       " 'best_lr_tcn_variational_laplace_8_val_acc=0.6158385.pth',\n",
       " 'best_lstm_variational_normal_2_val_acc=0.6295308.pth',\n",
       " 'best_lr_tcn_variational_normal_8_val_acc=0.6176769.pth',\n",
       " 'best_lstm_variational_laplace_2_val_acc=0.6319385.pth',\n",
       " 'best_lr_lstm_variational_normal_16_val_acc=0.6126.pth',\n",
       " 'best_lr_lstm_variational_laplace_15_val_acc=0.6104.pth',\n",
       " 'best_tcn_variational_laplace_2_val_acc=0.6246154.pth']"
      ]
     },
     "execution_count": 16,
     "metadata": {},
     "output_type": "execute_result"
    }
   ],
   "source": [
    "saved_folder = './models_final/yelp/'\n",
    "os.listdir(saved_folder)"
   ]
  },
  {
   "cell_type": "code",
   "execution_count": null,
   "metadata": {},
   "outputs": [],
   "source": [
    "model = torch.load(saved_folder + 'best_lr_tcn_variational_normal_8_val_acc=0.6176769.pth')\n",
    "model.to(device)"
   ]
  },
  {
   "cell_type": "code",
   "execution_count": null,
   "metadata": {},
   "outputs": [],
   "source": [
    "preds, scores, targets, variances = bbb_predict(model, iterator, T=10)\n",
    "kappas_sr = np.max(scores, 1)\n",
    "kappas_var = -variances"
   ]
  },
  {
   "cell_type": "code",
   "execution_count": null,
   "metadata": {
    "scrolled": true
   },
   "outputs": [],
   "source": [
    "risks_sr = [selective_risk_at_coverage(c, kappas_sr, preds, targets) for c in coverages]\n",
    "risks_var = [selective_risk_at_coverage(c, kappas_var, preds, targets) for c in coverages]"
   ]
  },
  {
   "cell_type": "code",
   "execution_count": null,
   "metadata": {
    "scrolled": true
   },
   "outputs": [],
   "source": [
    "plt.plot(coverages, risks_sr, label='sr')\n",
    "plt.plot(coverages, risks_var, label='var')\n",
    "plt.legend()\n",
    "plt.show()"
   ]
  },
  {
   "cell_type": "code",
   "execution_count": null,
   "metadata": {},
   "outputs": [],
   "source": []
  }
 ],
 "metadata": {
  "kernelspec": {
   "display_name": "Python 3",
   "language": "python",
   "name": "python3"
  },
  "language_info": {
   "codemirror_mode": {
    "name": "ipython",
    "version": 3
   },
   "file_extension": ".py",
   "mimetype": "text/x-python",
   "name": "python",
   "nbconvert_exporter": "python",
   "pygments_lexer": "ipython3",
   "version": "3.6.7"
  }
 },
 "nbformat": 4,
 "nbformat_minor": 2
}
